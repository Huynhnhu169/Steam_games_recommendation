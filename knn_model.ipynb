{
  "cells": [
    {
      "cell_type": "code",
      "execution_count": null,
      "metadata": {
        "id": "vr05hd9AabMp"
      },
      "outputs": [],
      "source": [
        "import time\n",
        "start = time.time()"
      ]
    },
    {
      "cell_type": "markdown",
      "metadata": {
        "id": "rCELyyOfen5Z"
      },
      "source": [
        "Dữ liệu từ final_reviews :"
      ]
    },
    {
      "cell_type": "code",
      "execution_count": null,
      "metadata": {
        "id": "fFgoQi-kabMr"
      },
      "outputs": [],
      "source": [
        "import pandas as pd\n",
        "import numpy as np\n",
        "reviews = pd.read_csv(\"final_reviews.csv\")"
      ]
    },
    {
      "cell_type": "markdown",
      "metadata": {
        "id": "ho7vj5VWepvH"
      },
      "source": []
    },
    {
      "cell_type": "code",
      "execution_count": null,
      "metadata": {
        "colab": {
          "base_uri": "https://localhost:8080/"
        },
        "id": "aPxwplIbabMr",
        "outputId": "adec7e6c-9494-481d-9857-be44197549f2"
      },
      "outputs": [
        {
          "output_type": "stream",
          "name": "stdout",
          "text": [
            "       sort_rank   app_id                             title date_release  \\\n",
            "0              1      730  Counter-Strike: Global Offensive    8/21/2012   \n",
            "1              2   105600                          Terraria    5/16/2011   \n",
            "2              3     4000                       Garry's Mod   11/29/2006   \n",
            "3              4   431960                  Wallpaper Engine    11/1/2018   \n",
            "4              5      440                   Team Fortress 2   10/10/2007   \n",
            "...          ...      ...                               ...          ...   \n",
            "15075      18169   656530               Pro Gamer Manager 2    10/5/2017   \n",
            "15076      18172  1563130                      SuperPower 3    10/7/2022   \n",
            "15077      18173   273770                   Game Tycoon 1.5    2/11/2014   \n",
            "15078      18176   913780                          NEW LIFE    8/12/2019   \n",
            "15079      18178   252050        Construction Machines 2014    3/28/2014   \n",
            "\n",
            "       positive_ratio  user_reviews    sort_value  \n",
            "0                  88       7494460  2.087214e+06  \n",
            "1                  97        943413  6.956955e+05  \n",
            "2                  96        853733  5.675896e+05  \n",
            "3                  98        637341  5.207540e+05  \n",
            "4                  93        985819  4.771190e+05  \n",
            "...               ...           ...           ...  \n",
            "15075              13           145  2.000000e-07  \n",
            "15076              10           880  8.800000e-08  \n",
            "15077              11           317  8.220000e-08  \n",
            "15078              11           134  3.480000e-08  \n",
            "15079               8           237  2.540000e-09  \n",
            "\n",
            "[15080 rows x 7 columns]\n"
          ]
        }
      ],
      "source": [
        "games_details = pd.read_csv(\"final_games.csv\")\n",
        "print(games_details)"
      ]
    },
    {
      "cell_type": "markdown",
      "metadata": {
        "id": "QDZVjCUSev64"
      },
      "source": [
        "Lọc 100 game có số lượng đánh giá nhiều nhất\n",
        "Quá trình lọc nhằm giảm kích thước dữ liệu\n"
      ]
    },
    {
      "cell_type": "code",
      "execution_count": null,
      "metadata": {
        "colab": {
          "base_uri": "https://localhost:8080/"
        },
        "id": "rRSql0QwhAcj",
        "outputId": "c2fcaa6b-4f3f-433e-a9b8-2fac05e9498b"
      },
      "outputs": [
        {
          "output_type": "stream",
          "name": "stdout",
          "text": [
            "Tệp 'top_100_games.csv' đã được tạo thành công!\n"
          ]
        }
      ],
      "source": [
        "import pandas as pd\n",
        "\n",
        "# Đọc tệp CSV\n",
        "games_details = pd.read_csv(\"final_games.csv\")\n",
        "\n",
        "# Sắp xếp DataFrame theo số lượng đánh giá\n",
        "sorted_games = games_details.sort_values(by='user_reviews', ascending=False)\n",
        "\n",
        "# Chọn 100 trò chơi có số lượng đánh giá cao nhất\n",
        "top_100_games = sorted_games.head(100)\n",
        "\n",
        "# Xuất dữ liệu vào tệp CSV mới\n",
        "top_100_games.to_csv(\"top_100_games.csv\", index=False)\n",
        "\n",
        "print(\"Tệp 'top_100_games.csv' đã được tạo thành công!\")\n"
      ]
    },
    {
      "cell_type": "code",
      "execution_count": null,
      "metadata": {
        "colab": {
          "base_uri": "https://localhost:8080/"
        },
        "id": "fjx9aoT4abMs",
        "outputId": "4212a49e-aee9-4af5-cd2d-c84663bf39dc"
      },
      "outputs": [
        {
          "output_type": "stream",
          "name": "stdout",
          "text": [
            "          app_id  is_recommended   user_id\n",
            "0         975370            True     51580\n",
            "1         304390           False      2586\n",
            "2        1085660            True    253880\n",
            "3         703080            True    259432\n",
            "4         526870            True     23869\n",
            "...          ...             ...       ...\n",
            "1048570   377160            True  12805122\n",
            "1048571   397540           False  12885105\n",
            "1048572   294100            True  12924735\n",
            "1048573   289070            True  12945957\n",
            "1048574   435150            True  12946897\n",
            "\n",
            "[1048575 rows x 3 columns]\n"
          ]
        }
      ],
      "source": [
        "print(reviews)"
      ]
    },
    {
      "cell_type": "markdown",
      "metadata": {
        "id": "E_KbpHCffDvZ"
      },
      "source": [
        "Tạo file csv chỉ bao gồm các đánh giá trên 100 game đó"
      ]
    },
    {
      "cell_type": "code",
      "execution_count": null,
      "metadata": {
        "colab": {
          "base_uri": "https://localhost:8080/"
        },
        "id": "znfoF1fJhPhB",
        "outputId": "c8c25e57-bd22-4760-de66-b3b7d1e31274"
      },
      "outputs": [
        {
          "output_type": "stream",
          "name": "stdout",
          "text": [
            "Tệp 'filtered_reviews.csv' đã được tạo thành công với các đánh giá từ 100 trò chơi hàng đầu!\n"
          ]
        }
      ],
      "source": [
        "import pandas as pd\n",
        "\n",
        "# Bước 1: Đọc tệp chứa các đánh giá\n",
        "reviews = pd.read_csv(\"final_reviews.csv\")  # Thay \"final_reviews.csv\" bằng tên tệp của bạn\n",
        "\n",
        "# Bước 2: Đọc tệp chứa danh sách 100 trò chơi hàng đầu\n",
        "top_100_games = pd.read_csv(\"top_100_games.csv\")\n",
        "\n",
        "# Bước 3: Lọc các đánh giá để giữ lại chỉ những đánh giá từ app_id trong danh sách trò chơi hàng đầu\n",
        "filtered_reviews = reviews[reviews['app_id'].isin(top_100_games['app_id'])]\n",
        "\n",
        "# Bước 4: Xuất kết quả ra tệp CSV mới\n",
        "filtered_reviews.to_csv(\"filtered_reviews.csv\", index=False)\n",
        "\n",
        "print(\"Tệp 'filtered_reviews.csv' đã được tạo thành công với các đánh giá từ 100 trò chơi hàng đầu!\")\n"
      ]
    },
    {
      "cell_type": "code",
      "execution_count": null,
      "metadata": {
        "id": "Ha6OL2pihexM"
      },
      "outputs": [],
      "source": [
        "reviews = pd.read_csv(\"/content/filtered_reviews.csv\")"
      ]
    },
    {
      "cell_type": "code",
      "execution_count": null,
      "metadata": {
        "colab": {
          "base_uri": "https://localhost:8080/"
        },
        "id": "w0z1c21IhiU7",
        "outputId": "681cec6f-ba57-47a3-a952-34df3d38c58c"
      },
      "outputs": [
        {
          "output_type": "stream",
          "name": "stdout",
          "text": [
            "         app_id  is_recommended   user_id\n",
            "0       1085660            True    253880\n",
            "1        238960            True     88282\n",
            "2           730           False     63209\n",
            "3        255710            True    354512\n",
            "4        289070            True    454422\n",
            "...         ...             ...       ...\n",
            "668781   105600            True  12755133\n",
            "668782   377160            True  12805122\n",
            "668783   294100            True  12924735\n",
            "668784   289070            True  12945957\n",
            "668785   435150            True  12946897\n",
            "\n",
            "[668786 rows x 3 columns]\n"
          ]
        }
      ],
      "source": [
        "print (reviews)"
      ]
    },
    {
      "cell_type": "markdown",
      "metadata": {
        "id": "8QxFY1CTfP6n"
      },
      "source": [
        "Lọc các review có trên 1 lần đánh giá (tức là người dùng đó cần đánh giá nhiều hơn 1 lần thì các đánh giá đó mới được giữ lại)"
      ]
    },
    {
      "cell_type": "code",
      "execution_count": null,
      "metadata": {
        "colab": {
          "base_uri": "https://localhost:8080/"
        },
        "id": "rmsqXIWHkWN5",
        "outputId": "6ea22a3f-d8a1-4815-e721-4ae6c1eb8057"
      },
      "outputs": [
        {
          "output_type": "stream",
          "name": "stdout",
          "text": [
            "        user_id  review_count\n",
            "205110  4947597            12\n",
            "245899  5752571             9\n",
            "216799  5188917             9\n",
            "187928  4511082             8\n",
            "240579  5646843             8\n",
            "...         ...           ...\n",
            "213336  5122988             1\n",
            "213337  5123010             1\n",
            "213338  5123011             1\n",
            "213339  5123030             1\n",
            "213330  5122913             1\n",
            "\n",
            "[624809 rows x 2 columns]\n"
          ]
        }
      ],
      "source": [
        "import pandas as pd\n",
        "\n",
        "# Đọc dữ liệu từ file CSV đã lọc\n",
        "reviews = pd.read_csv(\"/content/filtered_reviews.csv\")\n",
        "\n",
        "# Nhóm theo user_id và đếm số lượng đánh giá\n",
        "user_review_counts = reviews.groupby('user_id').size().reset_index(name='review_count')\n",
        "\n",
        "# Sắp xếp theo số lượng đánh giá giảm dần\n",
        "user_review_counts_sorted = user_review_counts.sort_values(by='review_count', ascending=False)\n",
        "\n",
        "# Hiển thị kết quả\n",
        "print(user_review_counts_sorted)\n"
      ]
    },
    {
      "cell_type": "code",
      "execution_count": null,
      "metadata": {
        "colab": {
          "base_uri": "https://localhost:8080/"
        },
        "id": "Macdw8NLknZJ",
        "outputId": "37ed2b45-f9a7-4a40-d7cb-f8f7b4981d78"
      },
      "outputs": [
        {
          "output_type": "stream",
          "name": "stdout",
          "text": [
            "        user_id  review_count\n",
            "205110  4947597            12\n",
            "245899  5752571             9\n",
            "216799  5188917             9\n",
            "314590  7185856             8\n",
            "187928  4511082             8\n",
            "...         ...           ...\n",
            "245767  5749995             2\n",
            "245773  5750138             2\n",
            "245784  5750343             2\n",
            "245786  5750366             2\n",
            "245736  5749403             2\n",
            "\n",
            "[38059 rows x 2 columns]\n"
          ]
        }
      ],
      "source": [
        "import pandas as pd\n",
        "\n",
        "# Đọc dữ liệu từ file CSV đã lọc\n",
        "reviews = pd.read_csv(\"/content/filtered_reviews.csv\")\n",
        "\n",
        "# Nhóm theo user_id và đếm số lượng đánh giá\n",
        "user_review_counts = reviews.groupby('user_id').size().reset_index(name='review_count')\n",
        "\n",
        "# Lọc chỉ giữ lại các user_id có số lượng đánh giá lớn hơn 1\n",
        "user_review_counts_filtered = user_review_counts[user_review_counts['review_count'] > 1]\n",
        "\n",
        "# Sắp xếp theo số lượng đánh giá giảm dần\n",
        "user_review_counts_sorted = user_review_counts_filtered.sort_values(by='review_count', ascending=False)\n",
        "\n",
        "# Hiển thị kết quả\n",
        "print(user_review_counts_sorted)\n"
      ]
    },
    {
      "cell_type": "code",
      "execution_count": null,
      "metadata": {
        "colab": {
          "base_uri": "https://localhost:8080/"
        },
        "id": "T1vLlOT4k64c",
        "outputId": "cb95c857-bab8-485b-cdb2-63fa6665bb61"
      },
      "outputs": [
        {
          "output_type": "stream",
          "name": "stdout",
          "text": [
            "         app_id  is_recommended   user_id\n",
            "5        431960            True    199725\n",
            "8       1172620            True    122640\n",
            "15       438100            True    912612\n",
            "43       489830            True   1199958\n",
            "45       236390            True   1647791\n",
            "...         ...             ...       ...\n",
            "668755   381210            True   9448156\n",
            "668768   435150            True  11361326\n",
            "668771  1599340            True  11468286\n",
            "668772  1091500            True  11651857\n",
            "668775  1938090            True  12080083\n",
            "\n",
            "[82036 rows x 3 columns]\n"
          ]
        }
      ],
      "source": [
        "import pandas as pd\n",
        "\n",
        "# Đọc dữ liệu từ file CSV đã lọc\n",
        "reviews = pd.read_csv(\"/content/filtered_reviews.csv\")\n",
        "\n",
        "# Nhóm theo user_id và đếm số lượng đánh giá\n",
        "user_review_counts = reviews.groupby('user_id').size().reset_index(name='review_count')\n",
        "\n",
        "# Lọc chỉ giữ lại các user_id có số lượng đánh giá lớn hơn 1\n",
        "multiple_review_users = user_review_counts[user_review_counts['review_count'] > 1]['user_id']\n",
        "\n",
        "# Lọc lại các review chỉ có hơn 1 lần đánh giá\n",
        "filtered_reviews = reviews[reviews['user_id'].isin(multiple_review_users)]\n",
        "\n",
        "# Hiển thị kết quả\n",
        "print(filtered_reviews)\n"
      ]
    },
    {
      "cell_type": "code",
      "execution_count": null,
      "metadata": {
        "colab": {
          "base_uri": "https://localhost:8080/"
        },
        "id": "qeCA_GvNmDbI",
        "outputId": "0bdab06a-61b4-4647-c75c-cccd9a189d28"
      },
      "outputs": [
        {
          "output_type": "stream",
          "name": "stdout",
          "text": [
            "         app_id  is_recommended   user_id\n",
            "5        431960            True    199725\n",
            "8       1172620            True    122640\n",
            "15       438100            True    912612\n",
            "43       489830            True   1199958\n",
            "45       236390            True   1647791\n",
            "...         ...             ...       ...\n",
            "668755   381210            True   9448156\n",
            "668768   435150            True  11361326\n",
            "668771  1599340            True  11468286\n",
            "668772  1091500            True  11651857\n",
            "668775  1938090            True  12080083\n",
            "\n",
            "[82036 rows x 3 columns]\n"
          ]
        }
      ],
      "source": [
        "import pandas as pd\n",
        "\n",
        "# Đọc dữ liệu từ file CSV đã lọc\n",
        "reviews = pd.read_csv(\"/content/filtered_reviews.csv\")\n",
        "\n",
        "# Nhóm theo user_id và đếm số lượng đánh giá\n",
        "user_review_counts = reviews.groupby('user_id').size().reset_index(name='review_count')\n",
        "\n",
        "# Lọc chỉ giữ lại các user_id có số lượng đánh giá lớn hơn 1\n",
        "multiple_review_users = user_review_counts[user_review_counts['review_count'] > 1]['user_id']\n",
        "\n",
        "# Lọc lại các review chỉ có hơn 1 lần đánh giá\n",
        "filtered_reviews = reviews[reviews['user_id'].isin(multiple_review_users)]\n",
        "\n",
        "# Lưu DataFrame vào file CSV\n",
        "filtered_reviews.to_csv(\"/content/filtered_reviews_multiple.csv\", index=False)  # Thay đổi đường dẫn nếu cần\n",
        "\n",
        "# Hiển thị kết quả\n",
        "print(filtered_reviews)\n"
      ]
    },
    {
      "cell_type": "code",
      "execution_count": null,
      "metadata": {
        "colab": {
          "base_uri": "https://localhost:8080/"
        },
        "id": "KPw65G8QlhVZ",
        "outputId": "8fa5b1c6-bfe8-44cf-81e7-dc9d3f8f3a3f"
      },
      "outputs": [
        {
          "output_type": "stream",
          "name": "stdout",
          "text": [
            "Collecting scikit-surprise==1.1.4\n",
            "  Downloading scikit_surprise-1.1.4.tar.gz (154 kB)\n",
            "\u001b[?25l     \u001b[90m━━━━━━━━━━━━━━━━━━━━━━━━━━━━━━━━━━━━━━━━\u001b[0m \u001b[32m0.0/154.4 kB\u001b[0m \u001b[31m?\u001b[0m eta \u001b[36m-:--:--\u001b[0m\r\u001b[2K     \u001b[91m━━━━━━━━━━━━━━━━━━━━━━━━━━━━━━━━━━━━━━━\u001b[0m\u001b[91m╸\u001b[0m \u001b[32m153.6/154.4 kB\u001b[0m \u001b[31m5.0 MB/s\u001b[0m eta \u001b[36m0:00:01\u001b[0m\r\u001b[2K     \u001b[90m━━━━━━━━━━━━━━━━━━━━━━━━━━━━━━━━━━━━━━━━\u001b[0m \u001b[32m154.4/154.4 kB\u001b[0m \u001b[31m3.5 MB/s\u001b[0m eta \u001b[36m0:00:00\u001b[0m\n",
            "\u001b[?25h  Installing build dependencies ... \u001b[?25l\u001b[?25hdone\n",
            "  Getting requirements to build wheel ... \u001b[?25l\u001b[?25hdone\n",
            "  Preparing metadata (pyproject.toml) ... \u001b[?25l\u001b[?25hdone\n",
            "Requirement already satisfied: joblib>=1.2.0 in /usr/local/lib/python3.10/dist-packages (from scikit-surprise==1.1.4) (1.4.2)\n",
            "Requirement already satisfied: numpy>=1.19.5 in /usr/local/lib/python3.10/dist-packages (from scikit-surprise==1.1.4) (1.26.4)\n",
            "Requirement already satisfied: scipy>=1.6.0 in /usr/local/lib/python3.10/dist-packages (from scikit-surprise==1.1.4) (1.13.1)\n",
            "Building wheels for collected packages: scikit-surprise\n",
            "  Building wheel for scikit-surprise (pyproject.toml) ... \u001b[?25l\u001b[?25hdone\n",
            "  Created wheel for scikit-surprise: filename=scikit_surprise-1.1.4-cp310-cp310-linux_x86_64.whl size=2357289 sha256=c5482e50746a54f800a5183864beb37d86f563d5a4e5973c41414578a519b712\n",
            "  Stored in directory: /root/.cache/pip/wheels/4b/3f/df/6acbf0a40397d9bf3ff97f582cc22fb9ce66adde75bc71fd54\n",
            "Successfully built scikit-surprise\n",
            "Installing collected packages: scikit-surprise\n",
            "Successfully installed scikit-surprise-1.1.4\n"
          ]
        }
      ],
      "source": [
        "!pip install scikit-surprise==1.1.4\n"
      ]
    },
    {
      "cell_type": "code",
      "execution_count": null,
      "metadata": {
        "colab": {
          "base_uri": "https://localhost:8080/"
        },
        "id": "s-IiDBMv0Xzx",
        "outputId": "c53043fc-c24e-45a4-9486-43eb2505944e"
      },
      "outputs": [
        {
          "output_type": "stream",
          "name": "stderr",
          "text": [
            "<ipython-input-15-c86e7e015564>:1: FutureWarning: Setting an item of incompatible dtype is deprecated and will raise in a future error of pandas. Value '[1 1 1 ... 1 1 1]' has dtype incompatible with bool, please explicitly cast to a compatible dtype first.\n",
            "  filtered_reviews.loc[:,'is_recommended'] = filtered_reviews['is_recommended'].map({True: 1, False: -1})\n"
          ]
        }
      ],
      "source": [
        "filtered_reviews.loc[:,'is_recommended'] = filtered_reviews['is_recommended'].map({True: 1, False: -1})"
      ]
    },
    {
      "cell_type": "markdown",
      "metadata": {
        "id": "4gXnVsFDfv0v"
      },
      "source": [
        "**2. Implementation: Use Surprise library: (4 points)**"
      ]
    },
    {
      "cell_type": "code",
      "execution_count": null,
      "metadata": {
        "colab": {
          "base_uri": "https://localhost:8080/"
        },
        "id": "OqDdnM4mdI20",
        "outputId": "de7d31ed-0a55-4595-f865-101ba95cdf08"
      },
      "outputs": [
        {
          "output_type": "stream",
          "name": "stdout",
          "text": [
            "Bắt đầu huấn luyện mô hình...\n",
            "Computing the cosine similarity matrix...\n",
            "Done computing similarity matrix.\n",
            "Huấn luyện thành công.\n",
            "RMSE: 0.7956\n",
            "RMSE trên tập kiểm tra: 0.7956\n",
            "Kết thúc kiểm tra.\n"
          ]
        }
      ],
      "source": [
        "from surprise import KNNBasic, Dataset, Reader\n",
        "from surprise.model_selection import train_test_split\n",
        "from surprise import accuracy\n",
        "import pandas as pd\n",
        "import numpy as np\n",
        "\n",
        "# Giả sử bạn đã có dữ liệu filtered_reviews\n",
        "# Đọc dữ liệu từ DataFrame và định dạng dữ liệu cho Surprise\n",
        "reader = Reader(rating_scale=(0, 1))  # Giả sử 'is_recommended' có giá trị từ 0 đến 1\n",
        "data = Dataset.load_from_df(filtered_reviews[['user_id', 'app_id', 'is_recommended']], reader)\n",
        "\n",
        "# Chia dữ liệu thành tập huấn luyện và tập kiểm tra\n",
        "trainset, testset = train_test_split(data, test_size=0.2)\n",
        "\n",
        "# Định nghĩa các tham số cho mô hình KNNBasic với công thức tương đồng mới\n",
        "sim_option = {\n",
        "    'name': 'cosine',  # Sử dụng Pearson Baseline similarity\n",
        "    'user_based': False,         # False để dùng item-based\n",
        "}\n",
        "\n",
        "# Tạo mô hình KNNBasic với các tham số\n",
        "knn_model = KNNBasic(sim_options=sim_option, min_k=1, max_k=10)\n",
        "\n",
        "# Thêm các thông báo in ra để kiểm tra từng bước\n",
        "try:\n",
        "    print(\"Bắt đầu huấn luyện mô hình...\")\n",
        "    knn_model.fit(trainset)\n",
        "    print(\"Huấn luyện thành công.\")\n",
        "\n",
        "    # Dự đoán trên tập kiểm tra\n",
        "    predictions = knn_model.test(testset)\n",
        "\n",
        "    # Tính toán và in RMSE\n",
        "    rmse = accuracy.rmse(predictions)\n",
        "    print(f\"RMSE trên tập kiểm tra: {rmse:.4f}\")\n",
        "\n",
        "except ZeroDivisionError as e:\n",
        "    print(\"Lỗi chia cho 0 xảy ra trong quá trình tính toán ma trận độ tương đồng.\")\n",
        "\n",
        "    # Truy cập vào ma trận user-item để xem có cặp item nào có tất cả giá trị 0 hay không\n",
        "    user_item_matrix = filtered_reviews.pivot(index='user_id', columns='app_id', values='is_recommended').fillna(0)\n",
        "\n",
        "    zero_columns = user_item_matrix.columns[(user_item_matrix == 0).all()]\n",
        "\n",
        "    if len(zero_columns) > 0:\n",
        "        print(f\"Các item sau không có đánh giá nào (toàn bộ là 0): {zero_columns.tolist()}\")\n",
        "    else:\n",
        "        print(\"Không có item nào có tất cả giá trị là 0.\")\n",
        "\n",
        "print(\"Kết thúc kiểm tra.\")\n"
      ]
    },
    {
      "cell_type": "markdown",
      "source": [
        "So sánh giữa các phương pháp tính khoảng cách\n"
      ],
      "metadata": {
        "id": "NsE21dLU3AqA"
      }
    },
    {
      "cell_type": "markdown",
      "metadata": {
        "id": "l7GztR6mfyPI"
      },
      "source": [
        "**3. Implementation: Use numpy, pandas, and sklearn.    (3 points)**"
      ]
    },
    {
      "cell_type": "code",
      "execution_count": null,
      "metadata": {
        "colab": {
          "base_uri": "https://localhost:8080/"
        },
        "id": "ZJbNhWMPePtQ",
        "outputId": "4e5d211b-74d0-4812-96e0-84656724cee1"
      },
      "outputs": [
        {
          "output_type": "stream",
          "name": "stdout",
          "text": [
            "RMSE trên tập kiểm tra: 0.2339\n"
          ]
        },
        {
          "output_type": "stream",
          "name": "stderr",
          "text": [
            "/usr/local/lib/python3.10/dist-packages/sklearn/metrics/_regression.py:492: FutureWarning: 'squared' is deprecated in version 1.4 and will be removed in 1.6. To calculate the root mean squared error, use the function'root_mean_squared_error'.\n",
            "  warnings.warn(\n"
          ]
        }
      ],
      "source": [
        "import numpy as np\n",
        "import pandas as pd\n",
        "from sklearn.metrics import mean_squared_error\n",
        "from sklearn.model_selection import train_test_split\n",
        "\n",
        "# Giả sử bạn đã có DataFrame 'filtered_reviews' với các cột 'user_id', 'app_id', 'is_recommended'\n",
        "# Tạo ma trận tương tác (interaction matrix)\n",
        "user_item_matrix = filtered_reviews.pivot(index='user_id', columns='app_id', values='is_recommended').fillna(0)\n",
        "\n",
        "# Chia dữ liệu thành tập huấn luyện và tập kiểm tra\n",
        "train_data, test_data = train_test_split(filtered_reviews, test_size=0.2)\n",
        "\n",
        "# Tính toán ma trận độ tương đồng giữa các người dùng dựa trên cosine similarity\n",
        "def cosine_similarity(matrix):\n",
        "    norm = np.linalg.norm(matrix, axis=1)\n",
        "    similarity_matrix = np.dot(matrix, matrix.T) / (norm[:, None] * norm[None, :])\n",
        "    np.fill_diagonal(similarity_matrix, 0)  # Loại bỏ chính người dùng khi tính toán k láng giềng gần nhất\n",
        "    return similarity_matrix\n",
        "\n",
        "# Tạo ma trận độ tương đồng giữa các người dùng\n",
        "user_similarity = cosine_similarity(user_item_matrix.values)\n",
        "\n",
        "# Hàm tìm k láng giềng gần nhất của một người dùng\n",
        "def find_knn(user_index, k):\n",
        "    return np.argsort(user_similarity[user_index])[-k:]\n",
        "\n",
        "# Dự đoán rating của người dùng dựa trên KNN Collaborative Filtering\n",
        "def predict_rating(user_id, item_id, k=5):\n",
        "    user_index = user_item_matrix.index.get_loc(user_id)\n",
        "    item_index = user_item_matrix.columns.get_loc(item_id)\n",
        "\n",
        "    # Tìm k láng giềng gần nhất của người dùng\n",
        "    knn_users = find_knn(user_index, k)\n",
        "\n",
        "    # Tính rating dự đoán bằng cách lấy trung bình có trọng số từ các người dùng láng giềng\n",
        "    weights = user_similarity[user_index, knn_users]\n",
        "    ratings = user_item_matrix.values[knn_users, item_index]\n",
        "\n",
        "    if np.sum(weights) > 0:\n",
        "        predicted_rating = np.dot(weights, ratings) / np.sum(weights)\n",
        "    else:\n",
        "        predicted_rating = np.mean(user_item_matrix.values[:, item_index])\n",
        "\n",
        "    return predicted_rating\n",
        "\n",
        "# Tính RMSE trên tập kiểm tra\n",
        "y_true, y_pred = [], []\n",
        "for _, row in test_data.iterrows():\n",
        "    true_rating = row['is_recommended']\n",
        "    predicted_rating = predict_rating(row['user_id'], row['app_id'], k=5)\n",
        "    y_true.append(true_rating)\n",
        "    y_pred.append(predicted_rating)\n",
        "\n",
        "rmse = mean_squared_error(y_true, y_pred, squared=False)\n",
        "print(f\"RMSE trên tập kiểm tra: {rmse:.4f}\")"
      ]
    },
    {
      "cell_type": "code",
      "execution_count": null,
      "metadata": {
        "colab": {
          "base_uri": "https://localhost:8080/"
        },
        "id": "CXYwgi4Dr-2u",
        "outputId": "e416f905-bb99-45ac-b8b4-ac800b579e99"
      },
      "outputs": [
        {
          "output_type": "stream",
          "name": "stderr",
          "text": [
            "/usr/local/lib/python3.10/dist-packages/sklearn/metrics/_regression.py:492: FutureWarning: 'squared' is deprecated in version 1.4 and will be removed in 1.6. To calculate the root mean squared error, use the function'root_mean_squared_error'.\n",
            "  warnings.warn(\n"
          ]
        },
        {
          "output_type": "stream",
          "name": "stdout",
          "text": [
            "RMSE trên tập kiểm tra với phương pháp Cosine: 0.2335\n"
          ]
        },
        {
          "output_type": "stream",
          "name": "stderr",
          "text": [
            "/usr/local/lib/python3.10/dist-packages/sklearn/metrics/_regression.py:492: FutureWarning: 'squared' is deprecated in version 1.4 and will be removed in 1.6. To calculate the root mean squared error, use the function'root_mean_squared_error'.\n",
            "  warnings.warn(\n"
          ]
        },
        {
          "output_type": "stream",
          "name": "stdout",
          "text": [
            "RMSE trên tập kiểm tra với phương pháp Pearson: 0.2663\n",
            "RMSE trên tập kiểm tra với phương pháp MSD: 0.2515\n"
          ]
        },
        {
          "output_type": "stream",
          "name": "stderr",
          "text": [
            "/usr/local/lib/python3.10/dist-packages/sklearn/metrics/_regression.py:492: FutureWarning: 'squared' is deprecated in version 1.4 and will be removed in 1.6. To calculate the root mean squared error, use the function'root_mean_squared_error'.\n",
            "  warnings.warn(\n"
          ]
        }
      ],
      "source": [
        "import numpy as np\n",
        "import pandas as pd\n",
        "from sklearn.metrics import mean_squared_error\n",
        "from sklearn.model_selection import train_test_split\n",
        "\n",
        "# Giả sử bạn đã có DataFrame 'filtered_reviews' với các cột 'user_id', 'app_id', 'is_recommended'\n",
        "# Tạo ma trận tương tác (interaction matrix)\n",
        "user_item_matrix = filtered_reviews.pivot(index='user_id', columns='app_id', values='is_recommended').fillna(0)\n",
        "\n",
        "# Chia dữ liệu thành tập huấn luyện và tập kiểm tra\n",
        "train_data, test_data = train_test_split(filtered_reviews, test_size=0.2)\n",
        "\n",
        "# Tính toán ma trận độ tương đồng giữa các người dùng dựa trên cosine similarity\n",
        "def cosine_similarity(matrix):\n",
        "    norm = np.linalg.norm(matrix, axis=1)\n",
        "    similarity_matrix = np.dot(matrix, matrix.T) / (norm[:, None] * norm[None, :])\n",
        "    np.fill_diagonal(similarity_matrix, 0)  # Loại bỏ chính người dùng khi tính toán k láng giềng gần nhất\n",
        "    return similarity_matrix\n",
        "\n",
        "# Tính toán Pearson Similarity\n",
        "def pearson_similarity(matrix):\n",
        "    mean_centered = matrix - np.mean(matrix, axis=1, keepdims=True)\n",
        "    similarity_matrix = np.dot(mean_centered, mean_centered.T) / (np.linalg.norm(mean_centered, axis=1)[:, None] * np.linalg.norm(mean_centered, axis=1)[None, :])\n",
        "    np.fill_diagonal(similarity_matrix, 0)\n",
        "    return similarity_matrix\n",
        "\n",
        "# Tính toán Mean Squared Difference (MSD) với mức tiêu thụ bộ nhớ thấp hơn\n",
        "def msd_similarity(matrix):\n",
        "    # MSD: 1 / (1 + MSE)\n",
        "    num_users = matrix.shape[0]\n",
        "    similarity_matrix = np.zeros((num_users, num_users))\n",
        "\n",
        "    for i in range(num_users):\n",
        "        # Tính toán MSE với người dùng khác\n",
        "        diff = matrix[i] - matrix  # Tính sự khác biệt giữa người dùng i và tất cả người dùng khác\n",
        "        mse = np.mean(diff ** 2, axis=1)  # Tính MSE dọc theo chiều thứ 1 (các hàng)\n",
        "        similarity_matrix[i] = 1 / (1 + mse)  # Chuyển đổi thành tương đồng\n",
        "\n",
        "        # In ra thông tin vòng lặp\n",
        "\n",
        "\n",
        "    np.fill_diagonal(similarity_matrix, 0)  # Đặt giá trị chính trên đường chéo là 0\n",
        "    return similarity_matrix\n",
        "\n",
        "\n",
        "# Tạo ma trận độ tương đồng giữa các người dùng\n",
        "user_similarity_cosine = cosine_similarity(user_item_matrix.values)\n",
        "user_similarity_pearson = pearson_similarity(user_item_matrix.values)\n",
        "user_similarity_msd = msd_similarity(user_item_matrix.values)\n",
        "\n",
        "# Hàm tìm k láng giềng gần nhất của một người dùng\n",
        "def find_knn(user_index, k, similarity_matrix):\n",
        "    return np.argsort(similarity_matrix[user_index])[-k:]\n",
        "\n",
        "# Dự đoán rating của người dùng dựa trên KNN Collaborative Filtering\n",
        "def predict_rating(user_id, item_id, k=5, similarity_matrix=user_similarity_cosine):\n",
        "    user_index = user_item_matrix.index.get_loc(user_id)\n",
        "    item_index = user_item_matrix.columns.get_loc(item_id)\n",
        "\n",
        "    # Tìm k láng giềng gần nhất của người dùng\n",
        "    knn_users = find_knn(user_index, k, similarity_matrix)\n",
        "\n",
        "    # Tính rating dự đoán bằng cách lấy trung bình có trọng số từ các người dùng láng giềng\n",
        "    weights = similarity_matrix[user_index, knn_users]\n",
        "    ratings = user_item_matrix.values[knn_users, item_index]\n",
        "\n",
        "    if np.sum(weights) > 0:\n",
        "        predicted_rating = np.dot(weights, ratings) / np.sum(weights)\n",
        "    else:\n",
        "        predicted_rating = np.mean(user_item_matrix.values[:, item_index])\n",
        "\n",
        "    return predicted_rating\n",
        "\n",
        "# Hàm đếm số lượng người dùng đã thực hiện và sẽ thực hiện\n",
        "def count_users(matrix):\n",
        "    # Đếm số lượng người dùng đã thực hiện (có ít nhất một đánh giá)\n",
        "    users_done = np.sum(np.sum(matrix > 0, axis=1) > 0)\n",
        "    # Đếm số lượng người dùng sẽ thực hiện (không có đánh giá nào)\n",
        "    users_not_done = matrix.shape[0] - users_done\n",
        "    return users_done, users_not_done\n",
        "\n",
        "# Tính toán số lượng người dùng\n",
        "users_done, users_not_done = count_users(user_item_matrix.values)\n",
        "\n",
        "# Tính RMSE trên tập kiểm tra cho từng phương pháp\n",
        "methods = {\n",
        "    'Cosine': user_similarity_cosine,\n",
        "    'Pearson': user_similarity_pearson,\n",
        "    'MSD': user_similarity_msd\n",
        "}\n",
        "\n",
        "for method_name, similarity_matrix in methods.items():\n",
        "    y_true, y_pred = [], []\n",
        "    for _, row in test_data.iterrows():\n",
        "        true_rating = row['is_recommended']\n",
        "        predicted_rating = predict_rating(row['user_id'], row['app_id'], k=5, similarity_matrix=similarity_matrix)\n",
        "        y_true.append(true_rating)\n",
        "        y_pred.append(predicted_rating)\n",
        "\n",
        "    rmse = mean_squared_error(y_true, y_pred, squared=False)\n",
        "    print(f\"RMSE trên tập kiểm tra với phương pháp {method_name}: {rmse:.4f}\")\n"
      ]
    },
    {
      "cell_type": "markdown",
      "source": [
        "Tìm các game phù hợp"
      ],
      "metadata": {
        "id": "TY5X9FO-3PZk"
      }
    },
    {
      "cell_type": "code",
      "source": [
        "import numpy as np\n",
        "import pandas as pd\n",
        "from sklearn.metrics import mean_squared_error\n",
        "from sklearn.model_selection import train_test_split\n",
        "\n",
        "# Giả sử bạn đã có DataFrame 'filtered_reviews' với các cột 'user_id', 'app_id', 'is_recommended'\n",
        "# Tạo ma trận tương tác (interaction matrix)\n",
        "user_item_matrix = filtered_reviews.pivot(index='user_id', columns='app_id', values='is_recommended').fillna(0)\n",
        "\n",
        "# Chia dữ liệu thành tập huấn luyện và tập kiểm tra\n",
        "train_data, test_data = train_test_split(filtered_reviews, test_size=0.2)\n",
        "\n",
        "# Tính toán ma trận độ tương đồng giữa các người dùng dựa trên cosine similarity\n",
        "def cosine_similarity(matrix):\n",
        "    norm = np.linalg.norm(matrix, axis=1)\n",
        "    similarity_matrix = np.dot(matrix, matrix.T) / (norm[:, None] * norm[None, :])\n",
        "    np.fill_diagonal(similarity_matrix, 0)  # Loại bỏ chính người dùng khi tính toán k láng giềng gần nhất\n",
        "    return similarity_matrix\n",
        "\n",
        "# Tạo ma trận độ tương đồng giữa các người dùng\n",
        "user_similarity_cosine = cosine_similarity(user_item_matrix.values)\n",
        "\n",
        "# Hàm tìm k láng giềng gần nhất của một người dùng\n",
        "def find_knn(user_index, k, similarity_matrix):\n",
        "    return np.argsort(similarity_matrix[user_index])[-k:]\n",
        "\n",
        "# Dự đoán rating của người dùng dựa trên KNN Collaborative Filtering\n",
        "def predict_rating(user_id, item_id, k=5, similarity_matrix=user_similarity_cosine):\n",
        "    if user_id not in user_item_matrix.index or item_id not in user_item_matrix.columns:\n",
        "        return 0  # Trả về 0 nếu user_id hoặc item_id không hợp lệ\n",
        "\n",
        "    user_index = user_item_matrix.index.get_loc(user_id)\n",
        "    item_index = user_item_matrix.columns.get_loc(item_id)\n",
        "\n",
        "    # Tìm k láng giềng gần nhất của người dùng\n",
        "    knn_users = find_knn(user_index, k, similarity_matrix)\n",
        "\n",
        "    # Tính rating dự đoán bằng cách lấy trung bình có trọng số từ các người dùng láng giềng\n",
        "    weights = similarity_matrix[user_index, knn_users]\n",
        "    ratings = user_item_matrix.values[knn_users, item_index]\n",
        "\n",
        "    if np.sum(weights) > 0:\n",
        "        predicted_rating = np.dot(weights, ratings) / np.sum(weights)\n",
        "    else:\n",
        "        predicted_rating = np.mean(user_item_matrix.values[:, item_index])  # Điểm trung bình của game\n",
        "\n",
        "    return predicted_rating\n",
        "\n",
        "# Hàm gợi ý game cho người dùng\n",
        "def recommend_games(user_id, k=5, similarity_matrix=user_similarity_cosine):\n",
        "    if user_id not in user_item_matrix.index:\n",
        "        print(f\"Không tìm thấy người dùng {user_id}. Danh sách ID người dùng khả dụng:\")\n",
        "        print(user_item_matrix.index.tolist())  # In ra danh sách ID người dùng khả dụng\n",
        "        return []\n",
        "\n",
        "    user_index = user_item_matrix.index.get_loc(user_id)\n",
        "    user_ratings = user_item_matrix.iloc[user_index]\n",
        "    unrated_items = user_ratings[user_ratings == 0].index\n",
        "\n",
        "    # Dự đoán điểm đánh giá cho các game chưa đánh giá\n",
        "    predicted_ratings = []\n",
        "    for item_id in unrated_items:\n",
        "        predicted_rating = predict_rating(user_id, item_id, k, similarity_matrix)\n",
        "        if predicted_rating > 0:  # Chỉ thêm nếu có độ tương đồng khác 0\n",
        "            predicted_ratings.append((item_id, predicted_rating))\n",
        "\n",
        "    # Sắp xếp các game theo điểm đánh giá dự đoán giảm dần\n",
        "    predicted_ratings.sort(key=lambda x: x[1], reverse=True)\n",
        "\n",
        "    # Chỉ lấy 5 game có điểm cao nhất\n",
        "    top_games = predicted_ratings[:5]\n",
        "\n",
        "    return top_games\n",
        "\n",
        "# Hàm để lấy tên game dựa trên app_id\n",
        "def get_game_title(app_id, games_df):\n",
        "    game_row = games_df[games_df['app_id'] == app_id]\n",
        "    if not game_row.empty:\n",
        "        return game_row['title'].values[0]\n",
        "    return None\n",
        "\n",
        "# Nhập ID người dùng và nhận các game phù hợp nhất\n",
        "user_id_input = input(\"Nhập ID người dùng: \")\n",
        "try:\n",
        "    user_id_input = int(user_id_input)\n",
        "except ValueError:\n",
        "    print(\"ID người dùng phải là số nguyên.\")\n",
        "else:\n",
        "    recommended_games = recommend_games(user_id_input, k=5, similarity_matrix=user_similarity_cosine)\n",
        "\n",
        "    # Đọc dữ liệu game từ file CSV\n",
        "    games_df = pd.read_csv('/content/final_games.csv')\n",
        "\n",
        "    print(\"Các game phù hợp nhất với người dùng:\")\n",
        "    for app_id, predicted_rating in recommended_games:\n",
        "        game_title = get_game_title(app_id, games_df)\n",
        "        if game_title:\n",
        "            print(f\"Game ID: {app_id}, Tên game: {game_title}\")  # Không hiển thị đánh giá dự đoán\n"
      ],
      "metadata": {
        "colab": {
          "base_uri": "https://localhost:8080/"
        },
        "id": "llp0n6jP9P9x",
        "outputId": "27af064e-5d37-46c0-bd3e-cdde43a0d7f6"
      },
      "execution_count": null,
      "outputs": [
        {
          "output_type": "stream",
          "name": "stdout",
          "text": [
            "Nhập ID người dùng: 258616\n",
            "Các game phù hợp nhất với người dùng:\n",
            "Game ID: 255710, Tên game: Cities: Skylines\n",
            "Game ID: 489830, Tên game: The Elder Scrolls V: Skyrim Special Edition\n",
            "Game ID: 108600, Tên game: Project Zomboid\n",
            "Game ID: 271590, Tên game: Grand Theft Auto V\n",
            "Game ID: 578080, Tên game: PUBG: BATTLEGROUNDS\n"
          ]
        }
      ]
    }
  ],
  "metadata": {
    "accelerator": "TPU",
    "colab": {
      "gpuType": "V28",
      "machine_shape": "hm",
      "provenance": []
    },
    "kernelspec": {
      "display_name": "Python 3",
      "name": "python3"
    },
    "language_info": {
      "codemirror_mode": {
        "name": "ipython",
        "version": 3
      },
      "file_extension": ".py",
      "mimetype": "text/x-python",
      "name": "python",
      "nbconvert_exporter": "python",
      "pygments_lexer": "ipython3",
      "version": "3.10.6"
    }
  },
  "nbformat": 4,
  "nbformat_minor": 0
}